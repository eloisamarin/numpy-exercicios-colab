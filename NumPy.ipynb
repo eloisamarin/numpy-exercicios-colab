{
  "nbformat": 4,
  "nbformat_minor": 0,
  "metadata": {
    "colab": {
      "provenance": []
    },
    "kernelspec": {
      "name": "python3",
      "display_name": "Python 3"
    },
    "language_info": {
      "name": "python"
    }
  },
  "cells": [
    {
      "cell_type": "markdown",
      "source": [
        "# Numpy\n",
        "\n",
        "Exercícios de Numpy"
      ],
      "metadata": {
        "id": "guNb2kBDBZnF"
      }
    },
    {
      "cell_type": "code",
      "execution_count": null,
      "metadata": {
        "id": "bkwkivlSBUx4"
      },
      "outputs": [],
      "source": [
        "import numpy as np\n"
      ]
    },
    {
      "cell_type": "markdown",
      "source": [
        "## Gerando números inteiros aleatórios no\n",
        "\n",
        "O random.randint é uma função da biblioteca padrão do Python (random) usada para gerar números inteiros aleatórios dentro de um intervalo definido."
      ],
      "metadata": {
        "id": "S8bjTGvSEN1o"
      }
    },
    {
      "cell_type": "code",
      "source": [
        "#1- Crie um array unidimensional de 50 elementos contendo numeros inteiros aleatorios entre 10 e 100.\n",
        "\n",
        "array = np.random.randint(\n",
        "    10,      # low → valor mínimo\n",
        "    101,     # high → valor máximo. Como o limite superior não entra, usamos 101 para ir até 100.\n",
        "    size=50  # size → quantidade de elementos.\n",
        ")\n",
        "\n",
        "print(array)"
      ],
      "metadata": {
        "colab": {
          "base_uri": "https://localhost:8080/"
        },
        "id": "nfuTmrvgB0Zt",
        "outputId": "fb6500fa-97ac-404a-8261-58d0cd423197"
      },
      "execution_count": null,
      "outputs": [
        {
          "output_type": "stream",
          "name": "stdout",
          "text": [
            "[ 53  90  35  12  28  30  45  34  78  43  19  83  72  28  57  25  54  57\n",
            "  75  58  75  21  61  21  89  77  69  99 100  38  32  11  19  82  32  29\n",
            "  93  80  77  53  24  74  64  94  15  12  94  16  93  77]\n"
          ]
        }
      ]
    },
    {
      "cell_type": "markdown",
      "source": [
        "## Explicação\n",
        "\n",
        "1.  np.arange(1, 17) → cria uma sequência de números inteiros começando em 1 até 16 (o 17 não entra porque o limite superior é exclusivo).\n",
        "\n",
        "2.  .reshape(4, 4) → reorganiza essa sequência em formato de matriz 4x4 (4 linhas e 4 colunas).\n",
        "\n",
        "3. matriz[-1] → acessa a última linha da matriz.\n",
        "\n",
        "* Em Python, o índice -1 sempre significa o último elemento (no caso de uma matriz, a última linha)."
      ],
      "metadata": {
        "id": "nBQR196vHwwT"
      }
    },
    {
      "cell_type": "code",
      "source": [
        "#2-  Gere uma matriz 4x4 com numeros inteiros de 1 a 16 e extraia a ultima linha.\n",
        "\n",
        "matriz = np.arange(1, 17).reshape(4, 4)# .reshape(4, 4) → transforma em uma matriz 4x4.\n",
        "print(\"Matriz 4x4:\\n\",matriz)\n",
        "\n",
        "ultima_linha = matriz[-1, :] # matriz[-1] → seleciona a última linha (o -1 significa “último índice”).\n",
        "print(\"\\nÚltima linha:\", ultima_linha)\n"
      ],
      "metadata": {
        "colab": {
          "base_uri": "https://localhost:8080/"
        },
        "id": "if8Xx0_GEu85",
        "outputId": "7381a795-f0ed-4f14-80b9-bcd293b699ea"
      },
      "execution_count": null,
      "outputs": [
        {
          "output_type": "stream",
          "name": "stdout",
          "text": [
            "Matriz 4x4:\n",
            " [[ 1  2  3  4]\n",
            " [ 5  6  7  8]\n",
            " [ 9 10 11 12]\n",
            " [13 14 15 16]]\n",
            "\n",
            "Última linha: [13 14 15 16]\n"
          ]
        }
      ]
    },
    {
      "cell_type": "markdown",
      "source": [
        "##Explicação:\n",
        "\n",
        "1. np.zeros(15) → cria um array de 15 posições, todas preenchidas com 0.\n",
        "\n",
        "2. array[4:10] = 1 → substitui os valores do índice 4 até 9 (que correspondem à 5ª até a 10ª posição) por 1."
      ],
      "metadata": {
        "id": "2r2s0wJTKhKy"
      }
    },
    {
      "cell_type": "code",
      "source": [
        "#3- Crie um array de zeros com comprimento 15 e substitua os valores da 5ª a 10ª posicao por 1.\n",
        "\n",
        "array = np.zeros(15)\n",
        "print(\"Array inicial:\", array)\n",
        "\n",
        "# Substituir os valores da 5ª até a 10ª posição por 1\n",
        "array[4:10] = 1\n",
        "print(\"Array modificado:\",array)\n",
        "\n"
      ],
      "metadata": {
        "colab": {
          "base_uri": "https://localhost:8080/"
        },
        "id": "iFaHItquI1wZ",
        "outputId": "5d77a018-ecb8-49b1-8c11-5717020ce7ef"
      },
      "execution_count": null,
      "outputs": [
        {
          "output_type": "stream",
          "name": "stdout",
          "text": [
            "Array inicial: [0. 0. 0. 0. 0. 0. 0. 0. 0. 0. 0. 0. 0. 0. 0.]\n",
            "Array modificado: [0. 0. 0. 0. 1. 1. 1. 1. 1. 1. 0. 0. 0. 0. 0.]\n"
          ]
        }
      ]
    },
    {
      "cell_type": "markdown",
      "source": [
        "##Explicação:\n",
        "\n",
        "1. np.median(array) → calcula a mediana do array, ou seja, o valor que está no meio quando os elementos estão ordenados.\n",
        "\n",
        "* Se o array tiver número par de elementos, ele faz a média dos dois valores centrais.\n",
        "\n",
        "2. np.bincount(array) → conta quantas vezes cada número inteiro aparece no array.\n",
        "\n",
        "3. .argmax() → retorna o índice do valor que aparece mais vezes."
      ],
      "metadata": {
        "id": "jOWncvaLRTGq"
      }
    },
    {
      "cell_type": "code",
      "source": [
        "#4- Gere um array de 100 numeros inteiros aleatorios e encontre a mediana e a moda dos valores.\n",
        "\n",
        "array = np.random.randint(1, 101, size=100)\n",
        "print(\"Array gerado: \\n\", array)\n",
        "\n",
        "# Calcular a mediana\n",
        "mediana = np.median(array)\n",
        "print(\"Valor da Mediana:\", mediana)\n",
        "\n",
        "# Calcular a moda\n",
        "moda = np.bincount(array).argmax()\n",
        "print(\"Valor da Moda:\", moda)\n",
        "\n",
        "\n",
        "\n"
      ],
      "metadata": {
        "colab": {
          "base_uri": "https://localhost:8080/"
        },
        "collapsed": true,
        "id": "losnnNmILDd8",
        "outputId": "6a2845d5-103a-4bea-c2e3-b7eccd216296"
      },
      "execution_count": null,
      "outputs": [
        {
          "output_type": "stream",
          "name": "stdout",
          "text": [
            "Array gerado: \n",
            " [ 62  40  63  77   4  36  16  44 100  26  49  45  21  61  92  49  93  57\n",
            "  48  94  71  36  89  91  34  33  48  37  67   8  93  86  78  88  96  38\n",
            "  91   8  24 100  88  34  45  61  63  44  21  22  67   5  54  25  25  39\n",
            "  55  42  17  25  21  96  24  81  34  93  56  74  60  48  13  93  10  64\n",
            "  83  34  44  25  52   7  75  64  93  18  83   8  62  12  20   1  43  75\n",
            "  13  83  19  48  28  99  83  49   4  60]\n",
            "Valor da Mediana: 48.0\n",
            "Valor da Moda: 93\n"
          ]
        }
      ]
    },
    {
      "cell_type": "markdown",
      "source": [
        "## Explicação\n",
        "1. np.random.randint(1, 101, size=20) → cria um array com 20 números inteiros aleatórios entre 1 e 100.\n",
        "2. array % 3 == 0 → cria uma máscara booleana, que é True para os números múltiplos de 3.\n",
        "\n",
        "3. array[mascara] = -3 → substitui todos os valores onde a máscara é True pelo valor -3."
      ],
      "metadata": {
        "id": "ZoLggjbOTCV2"
      }
    },
    {
      "cell_type": "code",
      "source": [
        " #5- Crie um array de 20 elementos contendo n´umeros entre 1 e 100 e substitua todos os valores multiplos de 3 por -3.\n",
        "\n",
        "array = np.random.randint(1, 101, size=20)\n",
        "print(\"Array gerado: \\n\", array)\n",
        "# Substituir todos os valores múltiplos de 3 por -3\n",
        "array[array % 3 == 0] = -3\n",
        "print(\"Array modificado: \\n\", array)\n"
      ],
      "metadata": {
        "colab": {
          "base_uri": "https://localhost:8080/"
        },
        "id": "bc-se7FdR8uB",
        "outputId": "c2f0dc84-ba06-4cf1-d368-a400f12f2e9b"
      },
      "execution_count": null,
      "outputs": [
        {
          "output_type": "stream",
          "name": "stdout",
          "text": [
            "Array gerado: \n",
            " [27 20 93 35 77 94 42 45 50 97 99 31 86 17 76 37 26 97 82 56]\n",
            "Array modificado: \n",
            " [-3 20 -3 35 77 94 -3 -3 50 97 -3 31 86 17 76 37 26 97 82 56]\n"
          ]
        }
      ]
    },
    {
      "cell_type": "markdown",
      "source": [
        "##Explicação somar coluna\n",
        "\n",
        "1. np.random.rand(5,5) → cria números decimais aleatórios entre 0 e 1.\n",
        "\n",
        "2. np.sum(array, axis=0) → soma verticalmente cada coluna da matriz.\n",
        "*  axis=0 indica que a operação é feita ao longo das linhas."
      ],
      "metadata": {
        "id": "kRDyQxveUmLK"
      }
    },
    {
      "cell_type": "code",
      "source": [
        "#6- Gere uma matriz 5x5 de n´umeros aleat´orios entre 0 e 1 e encontre a soma de cada coluna\n",
        "\n",
        "array = np.random.rand(5,5)\n",
        "print(\"Matriz gerada: \\n\", array)\n",
        "\n",
        "# Calcular a soma de cada coluna\n",
        "soma_colunas = np.sum(array, axis=0)\n",
        "print(\"Soma de cada coluna:\", soma_colunas)\n"
      ],
      "metadata": {
        "colab": {
          "base_uri": "https://localhost:8080/"
        },
        "id": "Ycns8XgkTi3v",
        "outputId": "6cb7186e-8b04-45bc-d94e-9772f3c99c2f"
      },
      "execution_count": null,
      "outputs": [
        {
          "output_type": "stream",
          "name": "stdout",
          "text": [
            "Matriz gerada: \n",
            " [[0.54859981 0.54165616 0.68581852 0.15154079 0.5364885 ]\n",
            " [0.16556503 0.84836492 0.7041616  0.41844791 0.47485957]\n",
            " [0.60265602 0.15147166 0.69662979 0.56664875 0.44934476]\n",
            " [0.02397815 0.26579166 0.81028315 0.4258586  0.99842632]\n",
            " [0.15304741 0.58778339 0.72012603 0.87288549 0.55932116]]\n",
            "Soma de cada coluna: [1.49384642 2.39506779 3.61701909 2.43538155 3.01844031]\n"
          ]
        }
      ]
    },
    {
      "cell_type": "markdown",
      "source": [
        "## Explicação:\n",
        "\n",
        "1. np.random.randint(1, 101, size=10) → cria 10 números inteiros aleatórios entre 1 e 100.\n",
        "\n",
        "2. np.corrcoef(array1, array2) → retorna a matriz de correlação 2x2:\n",
        "\n",
        "* correlacao[0,1] ou correlacao[1,0] é o valor que representa a correlação entre os dois arrays.\n",
        "\n",
        "* correlacao[0,0] e correlacao[1,1] são sempre 1 (correlação do array com ele mesmo)."
      ],
      "metadata": {
        "id": "JQD7HoYnX6zU"
      }
    },
    {
      "cell_type": "code",
      "source": [
        "#7- Crie dois arrays de numeros aleatorios e encontre a correlacao entre eles.\n",
        "\n",
        "array1 = np.random.randint(1, 101, size=10)\n",
        "print(array1)\n",
        "\n",
        "array2 = np.random.randint(1, 101, size=10)\n",
        "print(array2)\n",
        "\n",
        "correlacao = np.corrcoef(array1, array2)\n",
        "print(\"\\nMatriz de Correlação:\\n\", correlacao)\n",
        "\n"
      ],
      "metadata": {
        "colab": {
          "base_uri": "https://localhost:8080/"
        },
        "id": "9EUC3CYBV6PV",
        "outputId": "5cbe0f47-73c4-4b2b-cd5e-8619462aaefb"
      },
      "execution_count": 2,
      "outputs": [
        {
          "output_type": "stream",
          "name": "stdout",
          "text": [
            "[97  8 68 14  4 99 99 84 62 97]\n",
            "[92 59  9 57 64 35 43 47 69 41]\n",
            "\n",
            "Matriz de Correlação:\n",
            " [[ 1.         -0.20330062]\n",
            " [-0.20330062  1.        ]]\n"
          ]
        }
      ]
    },
    {
      "cell_type": "markdown",
      "source": [
        "## Explicação\n",
        "\n",
        "1. np.random.randint(1, 101, size=(3,3)) → cria uma matriz 3x3 com números inteiros aleatórios entre 1 e 100 (101 é exclusivo).\n",
        "2. np.square(array) → eleva cada elemento da matriz ao quadrado."
      ],
      "metadata": {
        "id": "tfbf4lmvFcVo"
      }
    },
    {
      "cell_type": "code",
      "source": [
        "#8- Gere uma matriz 3x3 com n´umeros inteiros aleat´orios e eleve todos os seus elementos ao quadrado\n",
        "\n",
        "array = np.random.randint(1, 101, size=(3,3))\n",
        "print(\"Matriz gerada: \\n\", array)\n",
        "\n",
        "# Elevar todos os elementos ao quadrado\n",
        "quadrado = np.square(array)\n",
        "print(\"\\nMatriz elevada ao quadrado: \\n\", quadrado)\n",
        "\n"
      ],
      "metadata": {
        "colab": {
          "base_uri": "https://localhost:8080/"
        },
        "collapsed": true,
        "id": "hOwiyXozEiGm",
        "outputId": "b5e3bebf-ab18-44ad-ee00-a1a4db2c44d2"
      },
      "execution_count": 3,
      "outputs": [
        {
          "output_type": "stream",
          "name": "stdout",
          "text": [
            "Matriz gerada: \n",
            " [[17 68 28]\n",
            " [24 71 65]\n",
            " [42 80 45]]\n",
            "\n",
            "Matriz elevada ao quadrado: \n",
            " [[ 289 4624  784]\n",
            " [ 576 5041 4225]\n",
            " [1764 6400 2025]]\n"
          ]
        }
      ]
    },
    {
      "cell_type": "markdown",
      "source": [
        "## Explicação\n",
        "1. array.min() → menor valor do array\n",
        "\n",
        "2. array.max() → maior valor do array\n",
        "\n",
        "3. array - array.min() → desloca todos os valores para começar do zero\n",
        "\n",
        "4. / (array.max() - array.min()) → divide pelo intervalo, garantindo que o maior valor fique 1"
      ],
      "metadata": {
        "id": "Q6Njic-0Gs3x"
      }
    },
    {
      "cell_type": "code",
      "source": [
        "#9-  Crie um array com 10 numeros aleatorios e normalize seus valores entre 0 e 1.\n",
        "\n",
        "array = np.random.randint(1, 101, size=10)\n",
        "print(\"Array gerado: \\n\", array)\n",
        "\n",
        "# Normalizar os valores entre 0 e 1\n",
        "array = (array - array.min()) / (array.max() - array.min())\n",
        "print(\"\\nArray normalizado: \\n\", array)\n"
      ],
      "metadata": {
        "colab": {
          "base_uri": "https://localhost:8080/"
        },
        "id": "ieGMuSemFsW4",
        "outputId": "20dbe4cf-8072-4c10-e986-41d5de885fab"
      },
      "execution_count": 5,
      "outputs": [
        {
          "output_type": "stream",
          "name": "stdout",
          "text": [
            "Array gerado: \n",
            " [68 22 48 38 71 67 81 46 48 31]\n",
            "\n",
            "Array normalizado: \n",
            " [0.77966102 0.         0.44067797 0.27118644 0.83050847 0.76271186\n",
            " 1.         0.40677966 0.44067797 0.15254237]\n"
          ]
        }
      ]
    },
    {
      "cell_type": "markdown",
      "source": [
        "## Explicação\n",
        "1. np.eye(6, dtype=int) → cria uma matriz identidade 6x6 (1s na diagonal e 0s no restante).\n",
        "\n",
        "2. np.arange(6) → gera os índices [0, 1, 2, 3, 4, 5].\n",
        "\n",
        "3. array[np.arange(6), np.arange(6)] → seleciona exatamente a diagonal principal.\n",
        "\n",
        "4. np.arange(1, 7) → gera os valores [1, 2, 3, 4, 5, 6].\n",
        "\n",
        "Esses valores substituem os da diagonal."
      ],
      "metadata": {
        "id": "geCciwdYH5qf"
      }
    },
    {
      "cell_type": "code",
      "source": [
        "#10- Crie uma matriz identidade 6x6 e substitua a diagonal principal por valores crescentes de 1 a 6.\n",
        "\n",
        "array = np.random.randint(1, 101, size=(6,6))\n",
        "print(\"Matriz identidade:\\n\", array)\n",
        "\n",
        "# Substituir a diagonal principal por valores de 1 a 6\n",
        "array[np.arange(6), np.arange(6)] = np.arange(1, 7)\n",
        "print(\"\\nMatriz com diagonal substituída:\\n\", array)"
      ],
      "metadata": {
        "colab": {
          "base_uri": "https://localhost:8080/"
        },
        "collapsed": true,
        "id": "OPF-_ulXG4yh",
        "outputId": "8f410517-9010-4855-dc53-faeeccc92c61"
      },
      "execution_count": 9,
      "outputs": [
        {
          "output_type": "stream",
          "name": "stdout",
          "text": [
            "Matriz identidade:\n",
            " [[41 12 81 72 49 48]\n",
            " [ 8 34 81 54 31 45]\n",
            " [ 3 21 19 68 17 56]\n",
            " [83 18 16 26 84 59]\n",
            " [26  5 29  2 66 53]\n",
            " [15 17 89 85 58 96]]\n",
            "\n",
            "Matriz com diagonal substituída:\n",
            " [[ 1 12 81 72 49 48]\n",
            " [ 8  2 81 54 31 45]\n",
            " [ 3 21  3 68 17 56]\n",
            " [83 18 16  4 84 59]\n",
            " [26  5 29  2  5 53]\n",
            " [15 17 89 85 58  6]]\n"
          ]
        }
      ]
    },
    {
      "cell_type": "markdown",
      "source": [
        "##Explicação\n",
        "\n",
        "1. np.random.randint(1, 101, size=100) → gera 100 inteiros entre 1 e 100.\n",
        "\n",
        "2. np.bincount(array) → cria um array onde o índice representa o número e o valor representa quantas vezes ele apareceu.\n",
        "\n",
        "* Exemplo: se array = [2, 2, 5], então np.bincount(array) = [0, 0, 2, 0, 0, 1].\n",
        "\n",
        "3. np.argmax(contagem) → retorna o índice do valor máximo, ou seja, o número mais frequente.\n",
        "\n",
        "4. contagem[valor_mais_frequente] → mostra quantas vezes ele apareceu."
      ],
      "metadata": {
        "id": "act5p4JUJtrU"
      }
    },
    {
      "cell_type": "code",
      "source": [
        "#11- Gere um array de 100 numeros inteiros e encontre o valor que mais se repete no array.\n",
        "\n",
        "array = np.random.randint(1, 101, size=100)\n",
        "print(\"Array gerado: \\n\", array)\n",
        "\n",
        "\n",
        "# Contar as ocorrências de cada número\n",
        "contagem = np.bincount(array)\n",
        "\n",
        "# Encontrar o valor que mais se repete\n",
        "valor_mais_repetido = np.argmax(contagem)\n",
        "\n",
        "frequencia = contagem[valor_mais_repetido]\n",
        "\n",
        "print(\"\\nValor que mais se repete:\", valor_mais_repetido)\n",
        "print(\"Frequência:\", frequencia)"
      ],
      "metadata": {
        "colab": {
          "base_uri": "https://localhost:8080/"
        },
        "id": "x_R41i7mIL-K",
        "outputId": "427c84e9-20f2-4b43-9865-0e9d4e94a08d"
      },
      "execution_count": 12,
      "outputs": [
        {
          "output_type": "stream",
          "name": "stdout",
          "text": [
            "Array gerado: \n",
            " [ 79  87  18  91  66  25  93  44  43  14  22  52  32  77   8  71  47   4\n",
            "  74  61  23  44  94  28  82  91  36  59  94  56  41  25  18  49  33  61\n",
            "  94   4  28  44  89  32  76  93  42  31  68  22  46  58  26  76  73  11\n",
            "  49  85  54  48  85  89  42   8  17 100  48  31  92  50  75  30  62  10\n",
            "  61  24  48  96  81  62  23  52  50  47  76  49  83  32  93  82  90  14\n",
            "  51  78   3  13  46  43  13  40  95  17]\n",
            "\n",
            "Valor que mais se repete: 32\n",
            "Frequência: 3\n"
          ]
        }
      ]
    },
    {
      "cell_type": "markdown",
      "source": [
        "## Explicação\n",
        "1. np.arange(4) → gera os índices [0, 1, 2, 3].\n",
        "\n",
        "2. array[np.arange(4), np.arange(4)] → seleciona exatamente os elementos da diagonal principal (posição [0,0], [1,1], [2,2], [3,3]).\n",
        "\n",
        "3. = 7 → substitui esses valores por 7."
      ],
      "metadata": {
        "id": "cfhbwRk2K4-v"
      }
    },
    {
      "cell_type": "code",
      "source": [
        "#12 Crie uma matriz 4x4 e substitua os valores da diagonal principal por 7.\n",
        "\n",
        "array = np.random.randint(1, 101, size=(4,4))\n",
        "print(\"Matriz gerada: \\n\", array)\n",
        "\n",
        "# Substituir a diagonal principal por 7\n",
        "array [np.arange(4), np.arange(4)] = 7\n",
        "print(\"\\nMatriz modificada: \\n\", array)\n"
      ],
      "metadata": {
        "colab": {
          "base_uri": "https://localhost:8080/"
        },
        "collapsed": true,
        "id": "aFuOthsyJ8gc",
        "outputId": "1c33069d-eb43-4c21-b7d2-c321ff55e867"
      },
      "execution_count": 13,
      "outputs": [
        {
          "output_type": "stream",
          "name": "stdout",
          "text": [
            "Matriz gerada: \n",
            " [[54 49 82 63]\n",
            " [12  7  7 27]\n",
            " [22  2 56 91]\n",
            " [14 99 84 18]]\n",
            "\n",
            "Matriz modificada: \n",
            " [[ 7 49 82 63]\n",
            " [12  7  7 27]\n",
            " [22  2  7 91]\n",
            " [14 99 84  7]]\n"
          ]
        }
      ]
    },
    {
      "cell_type": "markdown",
      "source": [
        "## Explicação\n",
        "\n",
        "1. np.arange(0, 20, 2) → gera números de 0 até 20 (exclusivo), de 2 em 2.\n",
        "2. np.cumsum(array) → soma os elementos de forma cumulativa.\n",
        "* O resultado é um novo array mostrando o acúmulo progressivo da soma."
      ],
      "metadata": {
        "id": "_9p2rGZtMDRp"
      }
    },
    {
      "cell_type": "code",
      "source": [
        "#13 - Crie um array contendo os 10 primeiros numeros pares e calcule sua soma cumulativa.\n",
        "\n",
        "array = np.arange(0, 20, 2)\n",
        "print(\"Array gerado: \\n\", array)\n",
        "\n",
        "# Calcular a soma cumulativa\n",
        "sum_cum = np.cumsum(array)\n",
        "print(\"\\nSoma cumulativa: \\n\", sum_cum)"
      ],
      "metadata": {
        "colab": {
          "base_uri": "https://localhost:8080/"
        },
        "id": "waBVY7avLMvK",
        "outputId": "ef752921-3cc6-4d90-c804-a59cb78e3dac"
      },
      "execution_count": 14,
      "outputs": [
        {
          "output_type": "stream",
          "name": "stdout",
          "text": [
            "Array gerado: \n",
            " [ 0  2  4  6  8 10 12 14 16 18]\n",
            "\n",
            "Soma cumulativa: \n",
            " [ 0  2  6 12 20 30 42 56 72 90]\n"
          ]
        }
      ]
    },
    {
      "cell_type": "markdown",
      "source": [
        "## Explicação\n",
        "\n",
        "1. array1 - array2 → o NumPy faz a subtração elemento a elemento.\n",
        "\n",
        "2. np.mean(diferenca) → calcula a média de todos os valores do array resultante."
      ],
      "metadata": {
        "id": "me0HV4LuM-Fc"
      }
    },
    {
      "cell_type": "code",
      "source": [
        "#14 - Calcule a diferenca entre dois arrays de numeros aleatorios de mesmo comprimento e encontre a media das diferencas.\n",
        "\n",
        "\n",
        "array1 = np.random.randint(30,100, size=(4,4))\n",
        "print(\"Array 1: \\n\", array1)\n",
        "\n",
        "array2 = np.random.randint(1,20, size=(4,4))\n",
        "print(\"Array 2: \\n\", array2)\n",
        "\n",
        "diferenca = array1 - array2\n",
        "print(\"\\nDiferença entre os arrays: \\n\", diferenca)\n",
        "\n",
        "media_diferenca = np.mean(diferenca)\n",
        "print(\"\\nMédia das diferenças: \\n\", media_diferenca)\n",
        "\n"
      ],
      "metadata": {
        "colab": {
          "base_uri": "https://localhost:8080/"
        },
        "collapsed": true,
        "id": "ZkUe1xPzMJOd",
        "outputId": "963e72ec-aa9c-4a01-9148-3cb69d6eac24"
      },
      "execution_count": 17,
      "outputs": [
        {
          "output_type": "stream",
          "name": "stdout",
          "text": [
            "Array 1: \n",
            " [[89 42 96 82]\n",
            " [71 93 53 77]\n",
            " [51 53 97 42]\n",
            " [85 94 45 87]]\n",
            "Array 2: \n",
            " [[ 1 16  7  8]\n",
            " [13  6  5  3]\n",
            " [ 6  2 10  6]\n",
            " [11 18  2  1]]\n",
            "\n",
            "Diferença entre os arrays: \n",
            " [[88 26 89 74]\n",
            " [58 87 48 74]\n",
            " [45 51 87 36]\n",
            " [74 76 43 86]]\n",
            "\n",
            "Média das diferenças: \n",
            " 65.125\n"
          ]
        }
      ]
    },
    {
      "cell_type": "markdown",
      "source": [
        "# Explicação\n",
        "\n",
        "1.  Parte usa indexação booleana do NumPy.\n",
        "* Onde a condição (array > 50) é verdadeira, ele troca o valor por 50."
      ],
      "metadata": {
        "id": "PyQ-PjK8N8Dv"
      }
    },
    {
      "cell_type": "code",
      "source": [
        "#15-  Gere um array contendo 20 numeros e substitua todos os valores maiores que 50 por 50.\n",
        "\n",
        "\n",
        "array = np.random.randint(1, 101, size=20)\n",
        "print(\"Array gerado: \\n\", array)\n",
        "\n",
        "# Substituir os valores maiores que 50 por 50\n",
        "array[array > 50] = 50\n",
        "print(\"Array:\", array)"
      ],
      "metadata": {
        "colab": {
          "base_uri": "https://localhost:8080/"
        },
        "id": "0y_zYZ2-NE_5",
        "outputId": "e0a485e2-6f0b-48a7-d1af-dd05e8a56edf"
      },
      "execution_count": 19,
      "outputs": [
        {
          "output_type": "stream",
          "name": "stdout",
          "text": [
            "Array gerado: \n",
            " [22 89 38 88 44 77 36 47 46 80 79 34 14 84 40  1 71 95 17 45]\n",
            "Array: [22 50 38 50 44 50 36 47 46 50 50 34 14 50 40  1 50 50 17 45]\n"
          ]
        }
      ]
    },
    {
      "cell_type": "markdown",
      "source": [
        "## Explicação:\n",
        "1. reshape(3,4) transforma o array de 1 dimensão (12 elementos) em uma matriz de 3 linhas e 4 colunas.\n",
        "\n",
        "* Ele apenas muda a forma do array, não cria novos números.\n",
        "\n"
      ],
      "metadata": {
        "id": "5Fv6geJ3Ohgb"
      }
    },
    {
      "cell_type": "code",
      "source": [
        "# 16 -  Crie um array unidimensional e reorganize seus valores em uma matriz 3x4.\n",
        "\n",
        "array = np.random.randint(1, 101, size=12)\n",
        "print(\"Array gerado: \\n\", array)\n",
        "\n",
        "matriz = array.reshape(3, 4)\n",
        "print(\"\\nMatriz modificada: \\n\", matriz)\n"
      ],
      "metadata": {
        "colab": {
          "base_uri": "https://localhost:8080/"
        },
        "collapsed": true,
        "id": "c1xXeFIXN7yb",
        "outputId": "bd6c6ccc-71db-49cd-f064-0d7aa281e904"
      },
      "execution_count": 20,
      "outputs": [
        {
          "output_type": "stream",
          "name": "stdout",
          "text": [
            "Array gerado: \n",
            " [18 16 95 94 88 10 27 80  8 42 57 52]\n",
            "\n",
            "Matriz modificada: \n",
            " [[18 16 95 94]\n",
            " [88 10 27 80]\n",
            " [ 8 42 57 52]]\n"
          ]
        }
      ]
    },
    {
      "cell_type": "code",
      "source": [
        "#17- Gere uma matriz 4x4 de numeros inteiros aleatorios e multiplique cada valor por sua posicao na matriz\n",
        "\n",
        "array = np.random.randint(1, 101, size=(4,4))\n",
        "print(\"Matriz gerada: \\n\", array)\n",
        "\n",
        "multiclicar = array * np.arange(1, 17).reshape(4, 4)\n",
        "print(\"\\nMatriz modificada: \\n\", multiclicar)\n",
        "#"
      ],
      "metadata": {
        "colab": {
          "base_uri": "https://localhost:8080/"
        },
        "id": "EKoTMDMyPECu",
        "outputId": "b3cf16de-e87b-4df6-8e9d-32282b3cd351"
      },
      "execution_count": 21,
      "outputs": [
        {
          "output_type": "stream",
          "name": "stdout",
          "text": [
            "Matriz gerada: \n",
            " [[36  2 53 16]\n",
            " [26 32 53 78]\n",
            " [31 62 84 87]\n",
            " [41  1 52 67]]\n",
            "\n",
            "Matriz modificada: \n",
            " [[  36    4  159   64]\n",
            " [ 130  192  371  624]\n",
            " [ 279  620  924 1044]\n",
            " [ 533   14  780 1072]]\n"
          ]
        }
      ]
    },
    {
      "cell_type": "markdown",
      "source": [
        "## Explicação:\n",
        "\n",
        "1. array % 5 == 0\n",
        "→ Verifica quais elementos do array são múltiplos de 5.\n",
        "Isso gera um array booleano (True onde é múltiplo de 5).\n",
        "\n",
        "2. array[array % 5 == 0] = 0\n",
        "→ Substitui todos os elementos que são múltiplos de 5 por 0.\n"
      ],
      "metadata": {
        "id": "xPpg0hwPV34i"
      }
    },
    {
      "cell_type": "code",
      "source": [
        "#18- Crie um array de 10 elementos contendo numeros entre 1 e 100 e substitua todos os valores multiplos de 5 por 0.\n",
        "\n",
        "array = np.random.randint(1, 101, size=10)\n",
        "print(\"Array gerado: \\n\", array)\n",
        "\n",
        "array[array % 5 == 0] = 0\n",
        "print(\"Array modificado: \\n\", array)\n"
      ],
      "metadata": {
        "colab": {
          "base_uri": "https://localhost:8080/"
        },
        "id": "_4K9feCkVty9",
        "outputId": "54a23750-e4fe-4790-fe05-8dce70fd2f4b"
      },
      "execution_count": 23,
      "outputs": [
        {
          "output_type": "stream",
          "name": "stdout",
          "text": [
            "Array gerado: \n",
            " [53  2 46  5 46 80 20  9 63 76]\n",
            "Array modificado: \n",
            " [53  2 46  0 46  0  0  9 63 76]\n"
          ]
        }
      ]
    },
    {
      "cell_type": "markdown",
      "source": [
        "## Explicação:\n",
        "\n",
        "\n",
        "**Produto escalar:**\n",
        "\n",
        "1. np.dot(array1, array2)→ Soma do produto de cada elemento correspondente.\n",
        "\n",
        "**Norma do vetor:**\n",
        "\n",
        "2. np.linalg.norm(array1)→ Calcula a magnitude do vetor (√(x₁² + x₂² + ...)).\n",
        "\n",
        "**Produto escalar normalizado:**\n",
        "\n",
        "3. cos_theta = produto_escalar / (norma1 * norma2)→ Fórmula de cosseno do ângulo entre dois vetores:cos𝜃= (A*B)/(A*B)\n",
        "\n",
        "\n",
        "**Ângulo em radianos e graus:**\n",
        "\n",
        "4. angulo_rad = np.arccos(cos_theta) | angulo_graus = np.degrees(angulo_rad)\n",
        "\n",
        "*  np.arccos retorna em radianos, np.degrees converte para graus."
      ],
      "metadata": {
        "id": "NvHW8692X9ih"
      }
    },
    {
      "cell_type": "code",
      "source": [
        "# 19- Crie dois arrays de numeros inteiros aleatorios de tamanho 20 e calcule o angulo entre eles (produto escalar normalizado)\n",
        "\n",
        "array1 = np.random.randint(1, 101, size=20)\n",
        "print(\"Array 1: \\n\", array1)\n",
        "\n",
        "array2 = np.random.randint(1, 101, size=20)\n",
        "print(\"Array 2: \\n\", array2)\n",
        "\n",
        "# Calcular o produto escalar normalizado\n",
        "produto_escalar = np.dot(array1, array2)\n",
        "print(\"\\nProduto Escalar: \\n\", produto_escalar)\n",
        "\n",
        "#normas dos vetores\n",
        "norma_array1 = np.linalg.norm(array1)\n",
        "norma_array2 = np.linalg.norm(array2)\n",
        "\n",
        "print(\"\\nNorma do array 1: \\n\", norma_array1)\n",
        "print(\"\\nNorma do array 2: \\n\", norma_array2)\n",
        "\n",
        "# Produto escalar normalizado (cosθ)\n",
        "cos_theta = produto_escalar / (norma_array1 * norma_array2)\n",
        "print(\"\\nProduto Escalar Normalizado: \\n\", cos_theta)\n",
        "\n",
        "#Calcular o angulo em radianos\n",
        "angulo_radianos = np.arccos(cos_theta)\n",
        "print(\"\\nAngulo em radianos: \\n\", angulo_radianos)\n",
        "\n",
        "#Converter para graus\n",
        "angulo_graus = np.degrees(angulo_radianos)\n",
        "print(\"\\nAngulo em graus: \\n\", angulo_graus)"
      ],
      "metadata": {
        "colab": {
          "base_uri": "https://localhost:8080/"
        },
        "id": "U-6GbfEyWhjD",
        "outputId": "b4993d61-50c1-4fa2-a2f8-9e06e0a3808a"
      },
      "execution_count": 25,
      "outputs": [
        {
          "output_type": "stream",
          "name": "stdout",
          "text": [
            "Array 1: \n",
            " [ 71  21  60  91  93  13  27  41  60  10 100  15  90  92  81  44  54  75\n",
            "  41  43]\n",
            "Array 2: \n",
            " [ 76  82  34  62 100   5  34  72   1  65  86  63  99   2  58  65  92  77\n",
            "  43  41]\n",
            "\n",
            "Produto Escalar: \n",
            " 69211\n",
            "\n",
            "Norma do array 1: \n",
            " 282.21977251780214\n",
            "\n",
            "Norma do array 2: \n",
            " 291.15803269015265\n",
            "\n",
            "Produto Escalar Normalizado: \n",
            " 0.8422846973677091\n",
            "\n",
            "Angulo em radianos: \n",
            " 0.5692885238689247\n",
            "\n",
            "Angulo em graus: \n",
            " 32.61782974292201\n"
          ]
        }
      ]
    },
    {
      "cell_type": "markdown",
      "source": [
        "## Explicação\n",
        "\n",
        "1. axis=1 indica que a operação é feita ao longo das colunas, ou seja, para cada linha, retorna o menor valor presente nela.\n",
        "\n"
      ],
      "metadata": {
        "id": "b21VKQ1ZY_VO"
      }
    },
    {
      "cell_type": "code",
      "source": [
        "#20- Crie uma matriz de numeros inteiros e encontre o valor mınimo de cada linha.\n",
        "\n",
        "matriz = np.random.randint(1, 101, size=(4,4))\n",
        "print(\"Matriz gerada: \\n\", matriz)\n",
        "\n",
        "minimo_linha = np.min(matriz, axis=1)\n",
        "print(\"\\nValor mínimo de cada linha: \\n\", minimo_linha)\n"
      ],
      "metadata": {
        "colab": {
          "base_uri": "https://localhost:8080/"
        },
        "id": "PSsPAtiGY_tT",
        "outputId": "e8e14f91-e8f2-4330-ed97-e403bdf9de3c"
      },
      "execution_count": 26,
      "outputs": [
        {
          "output_type": "stream",
          "name": "stdout",
          "text": [
            "Matriz gerada: \n",
            " [[44 96 70 44]\n",
            " [19 47 90 93]\n",
            " [48 42 61 87]\n",
            " [82 35 95 36]]\n",
            "\n",
            "Valor mínimo de cada linha: \n",
            " [44 19 42 35]\n"
          ]
        }
      ]
    }
  ]
}